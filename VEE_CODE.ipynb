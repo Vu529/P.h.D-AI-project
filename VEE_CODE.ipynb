{
  "nbformat": 4,
  "nbformat_minor": 0,
  "metadata": {
    "colab": {
      "name": "VEE CODE",
      "provenance": [],
      "authorship_tag": "ABX9TyNBW3WDSjfcNqgXT4PDco5M",
      "include_colab_link": true
    },
    "kernelspec": {
      "name": "python3",
      "display_name": "Python 3"
    },
    "language_info": {
      "name": "python"
    }
  },
  "cells": [
    {
      "cell_type": "markdown",
      "metadata": {
        "id": "view-in-github",
        "colab_type": "text"
      },
      "source": [
        "<a href=\"https://colab.research.google.com/github/Vu529/P.h.D-AI-project/blob/main/VEE_CODE.ipynb\" target=\"_parent\"><img src=\"https://colab.research.google.com/assets/colab-badge.svg\" alt=\"Open In Colab\"/></a>"
      ]
    },
    {
      "cell_type": "code",
      "execution_count": 1,
      "metadata": {
        "colab": {
          "base_uri": "https://localhost:8080/"
        },
        "id": "T6_EQCXCY2Oa",
        "outputId": "8dfec025-b086-41e7-ab33-a62973f9312c"
      },
      "outputs": [
        {
          "output_type": "stream",
          "name": "stdout",
          "text": [
            "Looking in indexes: https://pypi.org/simple, https://us-python.pkg.dev/colab-wheels/public/simple/\n",
            "Collecting chembl_webresource_client\n",
            "  Downloading chembl_webresource_client-0.10.8-py3-none-any.whl (55 kB)\n",
            "\u001b[K     |████████████████████████████████| 55 kB 2.2 MB/s \n",
            "\u001b[?25hCollecting requests-cache~=0.7.0\n",
            "  Downloading requests_cache-0.7.5-py3-none-any.whl (39 kB)\n",
            "Requirement already satisfied: requests>=2.18.4 in /usr/local/lib/python3.7/dist-packages (from chembl_webresource_client) (2.23.0)\n",
            "Requirement already satisfied: urllib3 in /usr/local/lib/python3.7/dist-packages (from chembl_webresource_client) (1.24.3)\n",
            "Requirement already satisfied: easydict in /usr/local/lib/python3.7/dist-packages (from chembl_webresource_client) (1.9)\n",
            "Requirement already satisfied: chardet<4,>=3.0.2 in /usr/local/lib/python3.7/dist-packages (from requests>=2.18.4->chembl_webresource_client) (3.0.4)\n",
            "Requirement already satisfied: idna<3,>=2.5 in /usr/local/lib/python3.7/dist-packages (from requests>=2.18.4->chembl_webresource_client) (2.10)\n",
            "Requirement already satisfied: certifi>=2017.4.17 in /usr/local/lib/python3.7/dist-packages (from requests>=2.18.4->chembl_webresource_client) (2022.5.18.1)\n",
            "Collecting pyyaml>=5.4\n",
            "  Downloading PyYAML-6.0-cp37-cp37m-manylinux_2_5_x86_64.manylinux1_x86_64.manylinux_2_12_x86_64.manylinux2010_x86_64.whl (596 kB)\n",
            "\u001b[K     |████████████████████████████████| 596 kB 11.7 MB/s \n",
            "\u001b[?25hCollecting itsdangerous>=2.0.1\n",
            "  Downloading itsdangerous-2.1.2-py3-none-any.whl (15 kB)\n",
            "Requirement already satisfied: attrs<22.0,>=21.2 in /usr/local/lib/python3.7/dist-packages (from requests-cache~=0.7.0->chembl_webresource_client) (21.4.0)\n",
            "Collecting url-normalize<2.0,>=1.4\n",
            "  Downloading url_normalize-1.4.3-py2.py3-none-any.whl (6.8 kB)\n",
            "Requirement already satisfied: six in /usr/local/lib/python3.7/dist-packages (from url-normalize<2.0,>=1.4->requests-cache~=0.7.0->chembl_webresource_client) (1.15.0)\n",
            "Installing collected packages: url-normalize, pyyaml, itsdangerous, requests-cache, chembl-webresource-client\n",
            "  Attempting uninstall: pyyaml\n",
            "    Found existing installation: PyYAML 3.13\n",
            "    Uninstalling PyYAML-3.13:\n",
            "      Successfully uninstalled PyYAML-3.13\n",
            "  Attempting uninstall: itsdangerous\n",
            "    Found existing installation: itsdangerous 1.1.0\n",
            "    Uninstalling itsdangerous-1.1.0:\n",
            "      Successfully uninstalled itsdangerous-1.1.0\n",
            "\u001b[31mERROR: pip's dependency resolver does not currently take into account all the packages that are installed. This behaviour is the source of the following dependency conflicts.\n",
            "flask 1.1.4 requires itsdangerous<2.0,>=0.24, but you have itsdangerous 2.1.2 which is incompatible.\u001b[0m\n",
            "Successfully installed chembl-webresource-client-0.10.8 itsdangerous-2.1.2 pyyaml-6.0 requests-cache-0.7.5 url-normalize-1.4.3\n"
          ]
        }
      ],
      "source": [
        "! pip install chembl_webresource_client"
      ]
    },
    {
      "cell_type": "code",
      "source": [
        "import pandas as pd\n",
        "from chembl_webresource_client.new_client import new_client"
      ],
      "metadata": {
        "id": "L4CdP_mBe5ju"
      },
      "execution_count": 2,
      "outputs": []
    },
    {
      "cell_type": "markdown",
      "source": [
        "Search for target protein"
      ],
      "metadata": {
        "id": "3GOw9UZOfJ19"
      }
    },
    {
      "cell_type": "code",
      "source": [
        "target= new_client.target\n",
        "target_query= target.search(\"neddylation activation enzyme\")\n",
        "targets= pd.DataFrame.from_dict(target_query)\n",
        "targets"
      ],
      "metadata": {
        "colab": {
          "base_uri": "https://localhost:8080/",
          "height": 57369
        },
        "id": "CRmAhhAtfPHm",
        "outputId": "2214eaea-e96e-42ea-8ba1-62547e537e05"
      },
      "execution_count": 26,
      "outputs": [
        {
          "output_type": "execute_result",
          "data": {
            "text/plain": [
              "                                      cross_references           organism  \\\n",
              "0                                                   []       Homo sapiens   \n",
              "1    [{'xref_id': 'Q70AG6', 'xref_name': None, 'xre...  Rattus norvegicus   \n",
              "2    [{'xref_id': 'Q12884', 'xref_name': None, 'xre...       Homo sapiens   \n",
              "3    [{'xref_id': 'P97321', 'xref_name': None, 'xre...       Mus musculus   \n",
              "4                                                   []       Homo sapiens   \n",
              "..                                                 ...                ...   \n",
              "756                                                 []       Homo sapiens   \n",
              "757                                                 []       Homo sapiens   \n",
              "758                                                 []  Rattus norvegicus   \n",
              "759                                                 []       Homo sapiens   \n",
              "760                                                 []       Homo sapiens   \n",
              "\n",
              "                                             pref_name  score  \\\n",
              "0    DCN1-like protein 1/NEDD8-conjugating enzyme U...   16.0   \n",
              "1                                   Cytidine deaminase   13.0   \n",
              "2                  Fibroblast activation protein alpha   13.0   \n",
              "3                                              Seprase   13.0   \n",
              "4                        Early activation antigen CD69   13.0   \n",
              "..                                                 ...    ...   \n",
              "756        NLR family CARD domain-containing protein 4    1.0   \n",
              "757    Na(+)/H(+) exchange regulatory cofactor NHE-RF2    1.0   \n",
              "758                                  Adenylate cyclase    0.0   \n",
              "759                      Voltage-gated calcium channel    0.0   \n",
              "760                            Cyclin-dependent kinase    0.0   \n",
              "\n",
              "     species_group_flag target_chembl_id  \\\n",
              "0                 False    CHEMBL4523603   \n",
              "1                 False       CHEMBL3653   \n",
              "2                 False       CHEMBL4683   \n",
              "3                 False       CHEMBL5769   \n",
              "4                 False    CHEMBL3308911   \n",
              "..                  ...              ...   \n",
              "756               False    CHEMBL4630857   \n",
              "757               False    CHEMBL4739686   \n",
              "758               False    CHEMBL2095179   \n",
              "759               False    CHEMBL2363032   \n",
              "760               False    CHEMBL3559691   \n",
              "\n",
              "                                     target_components  \\\n",
              "0    [{'accession': 'Q96GG9', 'component_descriptio...   \n",
              "1    [{'accession': 'Q70AG6', 'component_descriptio...   \n",
              "2    [{'accession': 'Q12884', 'component_descriptio...   \n",
              "3    [{'accession': 'P97321', 'component_descriptio...   \n",
              "4    [{'accession': 'Q07108', 'component_descriptio...   \n",
              "..                                                 ...   \n",
              "756  [{'accession': 'Q9NPP4', 'component_descriptio...   \n",
              "757  [{'accession': 'Q15599', 'component_descriptio...   \n",
              "758  [{'accession': 'D4A3N4', 'component_descriptio...   \n",
              "759  [{'accession': 'O95180', 'component_descriptio...   \n",
              "760  [{'accession': 'P06493', 'component_descriptio...   \n",
              "\n",
              "                     target_type   tax_id  \n",
              "0    PROTEIN-PROTEIN INTERACTION   9606.0  \n",
              "1                 SINGLE PROTEIN  10116.0  \n",
              "2                 SINGLE PROTEIN   9606.0  \n",
              "3                 SINGLE PROTEIN  10090.0  \n",
              "4                 SINGLE PROTEIN   9606.0  \n",
              "..                           ...      ...  \n",
              "756               SINGLE PROTEIN   9606.0  \n",
              "757               SINGLE PROTEIN   9606.0  \n",
              "758               PROTEIN FAMILY  10116.0  \n",
              "759        PROTEIN COMPLEX GROUP   9606.0  \n",
              "760               PROTEIN FAMILY   9606.0  \n",
              "\n",
              "[761 rows x 9 columns]"
            ],
            "text/html": [
              "\n",
              "  <div id=\"df-e274bdf9-f30b-4e21-8bb5-d6c6a035dd42\">\n",
              "    <div class=\"colab-df-container\">\n",
              "      <div>\n",
              "<style scoped>\n",
              "    .dataframe tbody tr th:only-of-type {\n",
              "        vertical-align: middle;\n",
              "    }\n",
              "\n",
              "    .dataframe tbody tr th {\n",
              "        vertical-align: top;\n",
              "    }\n",
              "\n",
              "    .dataframe thead th {\n",
              "        text-align: right;\n",
              "    }\n",
              "</style>\n",
              "<table border=\"1\" class=\"dataframe\">\n",
              "  <thead>\n",
              "    <tr style=\"text-align: right;\">\n",
              "      <th></th>\n",
              "      <th>cross_references</th>\n",
              "      <th>organism</th>\n",
              "      <th>pref_name</th>\n",
              "      <th>score</th>\n",
              "      <th>species_group_flag</th>\n",
              "      <th>target_chembl_id</th>\n",
              "      <th>target_components</th>\n",
              "      <th>target_type</th>\n",
              "      <th>tax_id</th>\n",
              "    </tr>\n",
              "  </thead>\n",
              "  <tbody>\n",
              "    <tr>\n",
              "      <th>0</th>\n",
              "      <td>[]</td>\n",
              "      <td>Homo sapiens</td>\n",
              "      <td>DCN1-like protein 1/NEDD8-conjugating enzyme U...</td>\n",
              "      <td>16.0</td>\n",
              "      <td>False</td>\n",
              "      <td>CHEMBL4523603</td>\n",
              "      <td>[{'accession': 'Q96GG9', 'component_descriptio...</td>\n",
              "      <td>PROTEIN-PROTEIN INTERACTION</td>\n",
              "      <td>9606.0</td>\n",
              "    </tr>\n",
              "    <tr>\n",
              "      <th>1</th>\n",
              "      <td>[{'xref_id': 'Q70AG6', 'xref_name': None, 'xre...</td>\n",
              "      <td>Rattus norvegicus</td>\n",
              "      <td>Cytidine deaminase</td>\n",
              "      <td>13.0</td>\n",
              "      <td>False</td>\n",
              "      <td>CHEMBL3653</td>\n",
              "      <td>[{'accession': 'Q70AG6', 'component_descriptio...</td>\n",
              "      <td>SINGLE PROTEIN</td>\n",
              "      <td>10116.0</td>\n",
              "    </tr>\n",
              "    <tr>\n",
              "      <th>2</th>\n",
              "      <td>[{'xref_id': 'Q12884', 'xref_name': None, 'xre...</td>\n",
              "      <td>Homo sapiens</td>\n",
              "      <td>Fibroblast activation protein alpha</td>\n",
              "      <td>13.0</td>\n",
              "      <td>False</td>\n",
              "      <td>CHEMBL4683</td>\n",
              "      <td>[{'accession': 'Q12884', 'component_descriptio...</td>\n",
              "      <td>SINGLE PROTEIN</td>\n",
              "      <td>9606.0</td>\n",
              "    </tr>\n",
              "    <tr>\n",
              "      <th>3</th>\n",
              "      <td>[{'xref_id': 'P97321', 'xref_name': None, 'xre...</td>\n",
              "      <td>Mus musculus</td>\n",
              "      <td>Seprase</td>\n",
              "      <td>13.0</td>\n",
              "      <td>False</td>\n",
              "      <td>CHEMBL5769</td>\n",
              "      <td>[{'accession': 'P97321', 'component_descriptio...</td>\n",
              "      <td>SINGLE PROTEIN</td>\n",
              "      <td>10090.0</td>\n",
              "    </tr>\n",
              "    <tr>\n",
              "      <th>4</th>\n",
              "      <td>[]</td>\n",
              "      <td>Homo sapiens</td>\n",
              "      <td>Early activation antigen CD69</td>\n",
              "      <td>13.0</td>\n",
              "      <td>False</td>\n",
              "      <td>CHEMBL3308911</td>\n",
              "      <td>[{'accession': 'Q07108', 'component_descriptio...</td>\n",
              "      <td>SINGLE PROTEIN</td>\n",
              "      <td>9606.0</td>\n",
              "    </tr>\n",
              "    <tr>\n",
              "      <th>...</th>\n",
              "      <td>...</td>\n",
              "      <td>...</td>\n",
              "      <td>...</td>\n",
              "      <td>...</td>\n",
              "      <td>...</td>\n",
              "      <td>...</td>\n",
              "      <td>...</td>\n",
              "      <td>...</td>\n",
              "      <td>...</td>\n",
              "    </tr>\n",
              "    <tr>\n",
              "      <th>756</th>\n",
              "      <td>[]</td>\n",
              "      <td>Homo sapiens</td>\n",
              "      <td>NLR family CARD domain-containing protein 4</td>\n",
              "      <td>1.0</td>\n",
              "      <td>False</td>\n",
              "      <td>CHEMBL4630857</td>\n",
              "      <td>[{'accession': 'Q9NPP4', 'component_descriptio...</td>\n",
              "      <td>SINGLE PROTEIN</td>\n",
              "      <td>9606.0</td>\n",
              "    </tr>\n",
              "    <tr>\n",
              "      <th>757</th>\n",
              "      <td>[]</td>\n",
              "      <td>Homo sapiens</td>\n",
              "      <td>Na(+)/H(+) exchange regulatory cofactor NHE-RF2</td>\n",
              "      <td>1.0</td>\n",
              "      <td>False</td>\n",
              "      <td>CHEMBL4739686</td>\n",
              "      <td>[{'accession': 'Q15599', 'component_descriptio...</td>\n",
              "      <td>SINGLE PROTEIN</td>\n",
              "      <td>9606.0</td>\n",
              "    </tr>\n",
              "    <tr>\n",
              "      <th>758</th>\n",
              "      <td>[]</td>\n",
              "      <td>Rattus norvegicus</td>\n",
              "      <td>Adenylate cyclase</td>\n",
              "      <td>0.0</td>\n",
              "      <td>False</td>\n",
              "      <td>CHEMBL2095179</td>\n",
              "      <td>[{'accession': 'D4A3N4', 'component_descriptio...</td>\n",
              "      <td>PROTEIN FAMILY</td>\n",
              "      <td>10116.0</td>\n",
              "    </tr>\n",
              "    <tr>\n",
              "      <th>759</th>\n",
              "      <td>[]</td>\n",
              "      <td>Homo sapiens</td>\n",
              "      <td>Voltage-gated calcium channel</td>\n",
              "      <td>0.0</td>\n",
              "      <td>False</td>\n",
              "      <td>CHEMBL2363032</td>\n",
              "      <td>[{'accession': 'O95180', 'component_descriptio...</td>\n",
              "      <td>PROTEIN COMPLEX GROUP</td>\n",
              "      <td>9606.0</td>\n",
              "    </tr>\n",
              "    <tr>\n",
              "      <th>760</th>\n",
              "      <td>[]</td>\n",
              "      <td>Homo sapiens</td>\n",
              "      <td>Cyclin-dependent kinase</td>\n",
              "      <td>0.0</td>\n",
              "      <td>False</td>\n",
              "      <td>CHEMBL3559691</td>\n",
              "      <td>[{'accession': 'P06493', 'component_descriptio...</td>\n",
              "      <td>PROTEIN FAMILY</td>\n",
              "      <td>9606.0</td>\n",
              "    </tr>\n",
              "  </tbody>\n",
              "</table>\n",
              "<p>761 rows × 9 columns</p>\n",
              "</div>\n",
              "      <button class=\"colab-df-convert\" onclick=\"convertToInteractive('df-e274bdf9-f30b-4e21-8bb5-d6c6a035dd42')\"\n",
              "              title=\"Convert this dataframe to an interactive table.\"\n",
              "              style=\"display:none;\">\n",
              "        \n",
              "  <svg xmlns=\"http://www.w3.org/2000/svg\" height=\"24px\"viewBox=\"0 0 24 24\"\n",
              "       width=\"24px\">\n",
              "    <path d=\"M0 0h24v24H0V0z\" fill=\"none\"/>\n",
              "    <path d=\"M18.56 5.44l.94 2.06.94-2.06 2.06-.94-2.06-.94-.94-2.06-.94 2.06-2.06.94zm-11 1L8.5 8.5l.94-2.06 2.06-.94-2.06-.94L8.5 2.5l-.94 2.06-2.06.94zm10 10l.94 2.06.94-2.06 2.06-.94-2.06-.94-.94-2.06-.94 2.06-2.06.94z\"/><path d=\"M17.41 7.96l-1.37-1.37c-.4-.4-.92-.59-1.43-.59-.52 0-1.04.2-1.43.59L10.3 9.45l-7.72 7.72c-.78.78-.78 2.05 0 2.83L4 21.41c.39.39.9.59 1.41.59.51 0 1.02-.2 1.41-.59l7.78-7.78 2.81-2.81c.8-.78.8-2.07 0-2.86zM5.41 20L4 18.59l7.72-7.72 1.47 1.35L5.41 20z\"/>\n",
              "  </svg>\n",
              "      </button>\n",
              "      \n",
              "  <style>\n",
              "    .colab-df-container {\n",
              "      display:flex;\n",
              "      flex-wrap:wrap;\n",
              "      gap: 12px;\n",
              "    }\n",
              "\n",
              "    .colab-df-convert {\n",
              "      background-color: #E8F0FE;\n",
              "      border: none;\n",
              "      border-radius: 50%;\n",
              "      cursor: pointer;\n",
              "      display: none;\n",
              "      fill: #1967D2;\n",
              "      height: 32px;\n",
              "      padding: 0 0 0 0;\n",
              "      width: 32px;\n",
              "    }\n",
              "\n",
              "    .colab-df-convert:hover {\n",
              "      background-color: #E2EBFA;\n",
              "      box-shadow: 0px 1px 2px rgba(60, 64, 67, 0.3), 0px 1px 3px 1px rgba(60, 64, 67, 0.15);\n",
              "      fill: #174EA6;\n",
              "    }\n",
              "\n",
              "    [theme=dark] .colab-df-convert {\n",
              "      background-color: #3B4455;\n",
              "      fill: #D2E3FC;\n",
              "    }\n",
              "\n",
              "    [theme=dark] .colab-df-convert:hover {\n",
              "      background-color: #434B5C;\n",
              "      box-shadow: 0px 1px 3px 1px rgba(0, 0, 0, 0.15);\n",
              "      filter: drop-shadow(0px 1px 2px rgba(0, 0, 0, 0.3));\n",
              "      fill: #FFFFFF;\n",
              "    }\n",
              "  </style>\n",
              "\n",
              "      <script>\n",
              "        const buttonEl =\n",
              "          document.querySelector('#df-e274bdf9-f30b-4e21-8bb5-d6c6a035dd42 button.colab-df-convert');\n",
              "        buttonEl.style.display =\n",
              "          google.colab.kernel.accessAllowed ? 'block' : 'none';\n",
              "\n",
              "        async function convertToInteractive(key) {\n",
              "          const element = document.querySelector('#df-e274bdf9-f30b-4e21-8bb5-d6c6a035dd42');\n",
              "          const dataTable =\n",
              "            await google.colab.kernel.invokeFunction('convertToInteractive',\n",
              "                                                     [key], {});\n",
              "          if (!dataTable) return;\n",
              "\n",
              "          const docLinkHtml = 'Like what you see? Visit the ' +\n",
              "            '<a target=\"_blank\" href=https://colab.research.google.com/notebooks/data_table.ipynb>data table notebook</a>'\n",
              "            + ' to learn more about interactive tables.';\n",
              "          element.innerHTML = '';\n",
              "          dataTable['output_type'] = 'display_data';\n",
              "          await google.colab.output.renderOutput(dataTable, element);\n",
              "          const docLink = document.createElement('div');\n",
              "          docLink.innerHTML = docLinkHtml;\n",
              "          element.appendChild(docLink);\n",
              "        }\n",
              "      </script>\n",
              "    </div>\n",
              "  </div>\n",
              "  "
            ]
          },
          "metadata": {},
          "execution_count": 26
        }
      ]
    },
    {
      "cell_type": "markdown",
      "source": [
        "Select and retrieve bioactivity data for sars coronavirus"
      ],
      "metadata": {
        "id": "-cDIiXwuggw8"
      }
    },
    {
      "cell_type": "code",
      "source": [
        "selected_target= targets.target_chembl_id[30]\n",
        "selected_target"
      ],
      "metadata": {
        "colab": {
          "base_uri": "https://localhost:8080/",
          "height": 35
        },
        "id": "Pl5rT8BKgy2N",
        "outputId": "39c1fd6b-f527-48c7-8a0e-10a6d4d30868"
      },
      "execution_count": 60,
      "outputs": [
        {
          "output_type": "execute_result",
          "data": {
            "text/plain": [
              "'CHEMBL3831283'"
            ],
            "application/vnd.google.colaboratory.intrinsic+json": {
              "type": "string"
            }
          },
          "metadata": {},
          "execution_count": 60
        }
      ]
    },
    {
      "cell_type": "markdown",
      "source": [
        "Retrive only Bioactivity data "
      ],
      "metadata": {
        "id": "CiFBtvkzhdx-"
      }
    },
    {
      "cell_type": "code",
      "source": [
        "activity= new_client.activity\n",
        "res= activity.filter(target_chembl_id=selected_target).filter(standard_type='IC50')"
      ],
      "metadata": {
        "id": "_hOAv74nhtsu"
      },
      "execution_count": 61,
      "outputs": []
    },
    {
      "cell_type": "code",
      "source": [
        "df= pd.DataFrame.from_dict(res)\n",
        "df"
      ],
      "metadata": {
        "colab": {
          "base_uri": "https://localhost:8080/",
          "height": 835
        },
        "id": "gE4K-_jZjIZ3",
        "outputId": "16adfdfc-1597-49da-c2f6-2764ea9b569d"
      },
      "execution_count": 62,
      "outputs": [
        {
          "output_type": "execute_result",
          "data": {
            "text/plain": [
              "    activity_comment  activity_id activity_properties assay_chembl_id  \\\n",
              "0               None     16875836                  []   CHEMBL3880354   \n",
              "1               None     16875837                  []   CHEMBL3880354   \n",
              "2               None     16875838                  []   CHEMBL3880354   \n",
              "3               None     16875839                  []   CHEMBL3880354   \n",
              "4               None     16875840                  []   CHEMBL3880354   \n",
              "..               ...          ...                 ...             ...   \n",
              "285             None     19494115                  []   CHEMBL4482792   \n",
              "286             None     19494116                  []   CHEMBL4482792   \n",
              "287             None     19494117                  []   CHEMBL4482792   \n",
              "288             None     19494118                  []   CHEMBL4482792   \n",
              "289             None     19494119                  []   CHEMBL4482792   \n",
              "\n",
              "                                     assay_description assay_type  \\\n",
              "0    Inhibition of recombinant human NAEalpha/N-ter...          B   \n",
              "1    Inhibition of recombinant human NAEalpha/N-ter...          B   \n",
              "2    Inhibition of recombinant human NAEalpha/N-ter...          B   \n",
              "3    Inhibition of recombinant human NAEalpha/N-ter...          B   \n",
              "4    Inhibition of recombinant human NAEalpha/N-ter...          B   \n",
              "..                                                 ...        ...   \n",
              "285  Inhibition of NAE (unknown origin) using GST-t...          B   \n",
              "286  Inhibition of NAE (unknown origin) using GST-t...          B   \n",
              "287  Inhibition of NAE (unknown origin) using GST-t...          B   \n",
              "288  Inhibition of NAE (unknown origin) using GST-t...          B   \n",
              "289  Inhibition of NAE (unknown origin) using GST-t...          B   \n",
              "\n",
              "    assay_variant_accession assay_variant_mutation bao_endpoint   bao_format  \\\n",
              "0                      None                   None  BAO_0000190  BAO_0000219   \n",
              "1                      None                   None  BAO_0000190  BAO_0000219   \n",
              "2                      None                   None  BAO_0000190  BAO_0000219   \n",
              "3                      None                   None  BAO_0000190  BAO_0000219   \n",
              "4                      None                   None  BAO_0000190  BAO_0000219   \n",
              "..                      ...                    ...          ...          ...   \n",
              "285                    None                   None  BAO_0000190  BAO_0000223   \n",
              "286                    None                   None  BAO_0000190  BAO_0000223   \n",
              "287                    None                   None  BAO_0000190  BAO_0000223   \n",
              "288                    None                   None  BAO_0000190  BAO_0000223   \n",
              "289                    None                   None  BAO_0000190  BAO_0000223   \n",
              "\n",
              "     ... target_organism         target_pref_name target_tax_id text_value  \\\n",
              "0    ...    Homo sapiens  NEDD8 activating enzyme          9606       None   \n",
              "1    ...    Homo sapiens  NEDD8 activating enzyme          9606       None   \n",
              "2    ...    Homo sapiens  NEDD8 activating enzyme          9606       None   \n",
              "3    ...    Homo sapiens  NEDD8 activating enzyme          9606       None   \n",
              "4    ...    Homo sapiens  NEDD8 activating enzyme          9606       None   \n",
              "..   ...             ...                      ...           ...        ...   \n",
              "285  ...    Homo sapiens  NEDD8 activating enzyme          9606       None   \n",
              "286  ...    Homo sapiens  NEDD8 activating enzyme          9606       None   \n",
              "287  ...    Homo sapiens  NEDD8 activating enzyme          9606       None   \n",
              "288  ...    Homo sapiens  NEDD8 activating enzyme          9606       None   \n",
              "289  ...    Homo sapiens  NEDD8 activating enzyme          9606       None   \n",
              "\n",
              "     toid  type  units    uo_units upper_value   value  \n",
              "0    None  IC50     nM  UO_0000065        None   500.0  \n",
              "1    None  IC50     nM  UO_0000065        None   500.0  \n",
              "2    None  IC50     nM  UO_0000065        None   500.0  \n",
              "3    None  IC50     nM  UO_0000065        None   500.0  \n",
              "4    None  IC50     nM  UO_0000065        None   500.0  \n",
              "..    ...   ...    ...         ...         ...     ...  \n",
              "285  None  IC50     uM  UO_0000065        None   0.015  \n",
              "286  None  IC50     uM  UO_0000065        None    0.01  \n",
              "287  None  IC50     uM  UO_0000065        None  0.0006  \n",
              "288  None  IC50     uM  UO_0000065        None   0.013  \n",
              "289  None  IC50     uM  UO_0000065        None   0.112  \n",
              "\n",
              "[290 rows x 45 columns]"
            ],
            "text/html": [
              "\n",
              "  <div id=\"df-b31dbd67-f2af-4bb2-91b4-835371aa8714\">\n",
              "    <div class=\"colab-df-container\">\n",
              "      <div>\n",
              "<style scoped>\n",
              "    .dataframe tbody tr th:only-of-type {\n",
              "        vertical-align: middle;\n",
              "    }\n",
              "\n",
              "    .dataframe tbody tr th {\n",
              "        vertical-align: top;\n",
              "    }\n",
              "\n",
              "    .dataframe thead th {\n",
              "        text-align: right;\n",
              "    }\n",
              "</style>\n",
              "<table border=\"1\" class=\"dataframe\">\n",
              "  <thead>\n",
              "    <tr style=\"text-align: right;\">\n",
              "      <th></th>\n",
              "      <th>activity_comment</th>\n",
              "      <th>activity_id</th>\n",
              "      <th>activity_properties</th>\n",
              "      <th>assay_chembl_id</th>\n",
              "      <th>assay_description</th>\n",
              "      <th>assay_type</th>\n",
              "      <th>assay_variant_accession</th>\n",
              "      <th>assay_variant_mutation</th>\n",
              "      <th>bao_endpoint</th>\n",
              "      <th>bao_format</th>\n",
              "      <th>...</th>\n",
              "      <th>target_organism</th>\n",
              "      <th>target_pref_name</th>\n",
              "      <th>target_tax_id</th>\n",
              "      <th>text_value</th>\n",
              "      <th>toid</th>\n",
              "      <th>type</th>\n",
              "      <th>units</th>\n",
              "      <th>uo_units</th>\n",
              "      <th>upper_value</th>\n",
              "      <th>value</th>\n",
              "    </tr>\n",
              "  </thead>\n",
              "  <tbody>\n",
              "    <tr>\n",
              "      <th>0</th>\n",
              "      <td>None</td>\n",
              "      <td>16875836</td>\n",
              "      <td>[]</td>\n",
              "      <td>CHEMBL3880354</td>\n",
              "      <td>Inhibition of recombinant human NAEalpha/N-ter...</td>\n",
              "      <td>B</td>\n",
              "      <td>None</td>\n",
              "      <td>None</td>\n",
              "      <td>BAO_0000190</td>\n",
              "      <td>BAO_0000219</td>\n",
              "      <td>...</td>\n",
              "      <td>Homo sapiens</td>\n",
              "      <td>NEDD8 activating enzyme</td>\n",
              "      <td>9606</td>\n",
              "      <td>None</td>\n",
              "      <td>None</td>\n",
              "      <td>IC50</td>\n",
              "      <td>nM</td>\n",
              "      <td>UO_0000065</td>\n",
              "      <td>None</td>\n",
              "      <td>500.0</td>\n",
              "    </tr>\n",
              "    <tr>\n",
              "      <th>1</th>\n",
              "      <td>None</td>\n",
              "      <td>16875837</td>\n",
              "      <td>[]</td>\n",
              "      <td>CHEMBL3880354</td>\n",
              "      <td>Inhibition of recombinant human NAEalpha/N-ter...</td>\n",
              "      <td>B</td>\n",
              "      <td>None</td>\n",
              "      <td>None</td>\n",
              "      <td>BAO_0000190</td>\n",
              "      <td>BAO_0000219</td>\n",
              "      <td>...</td>\n",
              "      <td>Homo sapiens</td>\n",
              "      <td>NEDD8 activating enzyme</td>\n",
              "      <td>9606</td>\n",
              "      <td>None</td>\n",
              "      <td>None</td>\n",
              "      <td>IC50</td>\n",
              "      <td>nM</td>\n",
              "      <td>UO_0000065</td>\n",
              "      <td>None</td>\n",
              "      <td>500.0</td>\n",
              "    </tr>\n",
              "    <tr>\n",
              "      <th>2</th>\n",
              "      <td>None</td>\n",
              "      <td>16875838</td>\n",
              "      <td>[]</td>\n",
              "      <td>CHEMBL3880354</td>\n",
              "      <td>Inhibition of recombinant human NAEalpha/N-ter...</td>\n",
              "      <td>B</td>\n",
              "      <td>None</td>\n",
              "      <td>None</td>\n",
              "      <td>BAO_0000190</td>\n",
              "      <td>BAO_0000219</td>\n",
              "      <td>...</td>\n",
              "      <td>Homo sapiens</td>\n",
              "      <td>NEDD8 activating enzyme</td>\n",
              "      <td>9606</td>\n",
              "      <td>None</td>\n",
              "      <td>None</td>\n",
              "      <td>IC50</td>\n",
              "      <td>nM</td>\n",
              "      <td>UO_0000065</td>\n",
              "      <td>None</td>\n",
              "      <td>500.0</td>\n",
              "    </tr>\n",
              "    <tr>\n",
              "      <th>3</th>\n",
              "      <td>None</td>\n",
              "      <td>16875839</td>\n",
              "      <td>[]</td>\n",
              "      <td>CHEMBL3880354</td>\n",
              "      <td>Inhibition of recombinant human NAEalpha/N-ter...</td>\n",
              "      <td>B</td>\n",
              "      <td>None</td>\n",
              "      <td>None</td>\n",
              "      <td>BAO_0000190</td>\n",
              "      <td>BAO_0000219</td>\n",
              "      <td>...</td>\n",
              "      <td>Homo sapiens</td>\n",
              "      <td>NEDD8 activating enzyme</td>\n",
              "      <td>9606</td>\n",
              "      <td>None</td>\n",
              "      <td>None</td>\n",
              "      <td>IC50</td>\n",
              "      <td>nM</td>\n",
              "      <td>UO_0000065</td>\n",
              "      <td>None</td>\n",
              "      <td>500.0</td>\n",
              "    </tr>\n",
              "    <tr>\n",
              "      <th>4</th>\n",
              "      <td>None</td>\n",
              "      <td>16875840</td>\n",
              "      <td>[]</td>\n",
              "      <td>CHEMBL3880354</td>\n",
              "      <td>Inhibition of recombinant human NAEalpha/N-ter...</td>\n",
              "      <td>B</td>\n",
              "      <td>None</td>\n",
              "      <td>None</td>\n",
              "      <td>BAO_0000190</td>\n",
              "      <td>BAO_0000219</td>\n",
              "      <td>...</td>\n",
              "      <td>Homo sapiens</td>\n",
              "      <td>NEDD8 activating enzyme</td>\n",
              "      <td>9606</td>\n",
              "      <td>None</td>\n",
              "      <td>None</td>\n",
              "      <td>IC50</td>\n",
              "      <td>nM</td>\n",
              "      <td>UO_0000065</td>\n",
              "      <td>None</td>\n",
              "      <td>500.0</td>\n",
              "    </tr>\n",
              "    <tr>\n",
              "      <th>...</th>\n",
              "      <td>...</td>\n",
              "      <td>...</td>\n",
              "      <td>...</td>\n",
              "      <td>...</td>\n",
              "      <td>...</td>\n",
              "      <td>...</td>\n",
              "      <td>...</td>\n",
              "      <td>...</td>\n",
              "      <td>...</td>\n",
              "      <td>...</td>\n",
              "      <td>...</td>\n",
              "      <td>...</td>\n",
              "      <td>...</td>\n",
              "      <td>...</td>\n",
              "      <td>...</td>\n",
              "      <td>...</td>\n",
              "      <td>...</td>\n",
              "      <td>...</td>\n",
              "      <td>...</td>\n",
              "      <td>...</td>\n",
              "      <td>...</td>\n",
              "    </tr>\n",
              "    <tr>\n",
              "      <th>285</th>\n",
              "      <td>None</td>\n",
              "      <td>19494115</td>\n",
              "      <td>[]</td>\n",
              "      <td>CHEMBL4482792</td>\n",
              "      <td>Inhibition of NAE (unknown origin) using GST-t...</td>\n",
              "      <td>B</td>\n",
              "      <td>None</td>\n",
              "      <td>None</td>\n",
              "      <td>BAO_0000190</td>\n",
              "      <td>BAO_0000223</td>\n",
              "      <td>...</td>\n",
              "      <td>Homo sapiens</td>\n",
              "      <td>NEDD8 activating enzyme</td>\n",
              "      <td>9606</td>\n",
              "      <td>None</td>\n",
              "      <td>None</td>\n",
              "      <td>IC50</td>\n",
              "      <td>uM</td>\n",
              "      <td>UO_0000065</td>\n",
              "      <td>None</td>\n",
              "      <td>0.015</td>\n",
              "    </tr>\n",
              "    <tr>\n",
              "      <th>286</th>\n",
              "      <td>None</td>\n",
              "      <td>19494116</td>\n",
              "      <td>[]</td>\n",
              "      <td>CHEMBL4482792</td>\n",
              "      <td>Inhibition of NAE (unknown origin) using GST-t...</td>\n",
              "      <td>B</td>\n",
              "      <td>None</td>\n",
              "      <td>None</td>\n",
              "      <td>BAO_0000190</td>\n",
              "      <td>BAO_0000223</td>\n",
              "      <td>...</td>\n",
              "      <td>Homo sapiens</td>\n",
              "      <td>NEDD8 activating enzyme</td>\n",
              "      <td>9606</td>\n",
              "      <td>None</td>\n",
              "      <td>None</td>\n",
              "      <td>IC50</td>\n",
              "      <td>uM</td>\n",
              "      <td>UO_0000065</td>\n",
              "      <td>None</td>\n",
              "      <td>0.01</td>\n",
              "    </tr>\n",
              "    <tr>\n",
              "      <th>287</th>\n",
              "      <td>None</td>\n",
              "      <td>19494117</td>\n",
              "      <td>[]</td>\n",
              "      <td>CHEMBL4482792</td>\n",
              "      <td>Inhibition of NAE (unknown origin) using GST-t...</td>\n",
              "      <td>B</td>\n",
              "      <td>None</td>\n",
              "      <td>None</td>\n",
              "      <td>BAO_0000190</td>\n",
              "      <td>BAO_0000223</td>\n",
              "      <td>...</td>\n",
              "      <td>Homo sapiens</td>\n",
              "      <td>NEDD8 activating enzyme</td>\n",
              "      <td>9606</td>\n",
              "      <td>None</td>\n",
              "      <td>None</td>\n",
              "      <td>IC50</td>\n",
              "      <td>uM</td>\n",
              "      <td>UO_0000065</td>\n",
              "      <td>None</td>\n",
              "      <td>0.0006</td>\n",
              "    </tr>\n",
              "    <tr>\n",
              "      <th>288</th>\n",
              "      <td>None</td>\n",
              "      <td>19494118</td>\n",
              "      <td>[]</td>\n",
              "      <td>CHEMBL4482792</td>\n",
              "      <td>Inhibition of NAE (unknown origin) using GST-t...</td>\n",
              "      <td>B</td>\n",
              "      <td>None</td>\n",
              "      <td>None</td>\n",
              "      <td>BAO_0000190</td>\n",
              "      <td>BAO_0000223</td>\n",
              "      <td>...</td>\n",
              "      <td>Homo sapiens</td>\n",
              "      <td>NEDD8 activating enzyme</td>\n",
              "      <td>9606</td>\n",
              "      <td>None</td>\n",
              "      <td>None</td>\n",
              "      <td>IC50</td>\n",
              "      <td>uM</td>\n",
              "      <td>UO_0000065</td>\n",
              "      <td>None</td>\n",
              "      <td>0.013</td>\n",
              "    </tr>\n",
              "    <tr>\n",
              "      <th>289</th>\n",
              "      <td>None</td>\n",
              "      <td>19494119</td>\n",
              "      <td>[]</td>\n",
              "      <td>CHEMBL4482792</td>\n",
              "      <td>Inhibition of NAE (unknown origin) using GST-t...</td>\n",
              "      <td>B</td>\n",
              "      <td>None</td>\n",
              "      <td>None</td>\n",
              "      <td>BAO_0000190</td>\n",
              "      <td>BAO_0000223</td>\n",
              "      <td>...</td>\n",
              "      <td>Homo sapiens</td>\n",
              "      <td>NEDD8 activating enzyme</td>\n",
              "      <td>9606</td>\n",
              "      <td>None</td>\n",
              "      <td>None</td>\n",
              "      <td>IC50</td>\n",
              "      <td>uM</td>\n",
              "      <td>UO_0000065</td>\n",
              "      <td>None</td>\n",
              "      <td>0.112</td>\n",
              "    </tr>\n",
              "  </tbody>\n",
              "</table>\n",
              "<p>290 rows × 45 columns</p>\n",
              "</div>\n",
              "      <button class=\"colab-df-convert\" onclick=\"convertToInteractive('df-b31dbd67-f2af-4bb2-91b4-835371aa8714')\"\n",
              "              title=\"Convert this dataframe to an interactive table.\"\n",
              "              style=\"display:none;\">\n",
              "        \n",
              "  <svg xmlns=\"http://www.w3.org/2000/svg\" height=\"24px\"viewBox=\"0 0 24 24\"\n",
              "       width=\"24px\">\n",
              "    <path d=\"M0 0h24v24H0V0z\" fill=\"none\"/>\n",
              "    <path d=\"M18.56 5.44l.94 2.06.94-2.06 2.06-.94-2.06-.94-.94-2.06-.94 2.06-2.06.94zm-11 1L8.5 8.5l.94-2.06 2.06-.94-2.06-.94L8.5 2.5l-.94 2.06-2.06.94zm10 10l.94 2.06.94-2.06 2.06-.94-2.06-.94-.94-2.06-.94 2.06-2.06.94z\"/><path d=\"M17.41 7.96l-1.37-1.37c-.4-.4-.92-.59-1.43-.59-.52 0-1.04.2-1.43.59L10.3 9.45l-7.72 7.72c-.78.78-.78 2.05 0 2.83L4 21.41c.39.39.9.59 1.41.59.51 0 1.02-.2 1.41-.59l7.78-7.78 2.81-2.81c.8-.78.8-2.07 0-2.86zM5.41 20L4 18.59l7.72-7.72 1.47 1.35L5.41 20z\"/>\n",
              "  </svg>\n",
              "      </button>\n",
              "      \n",
              "  <style>\n",
              "    .colab-df-container {\n",
              "      display:flex;\n",
              "      flex-wrap:wrap;\n",
              "      gap: 12px;\n",
              "    }\n",
              "\n",
              "    .colab-df-convert {\n",
              "      background-color: #E8F0FE;\n",
              "      border: none;\n",
              "      border-radius: 50%;\n",
              "      cursor: pointer;\n",
              "      display: none;\n",
              "      fill: #1967D2;\n",
              "      height: 32px;\n",
              "      padding: 0 0 0 0;\n",
              "      width: 32px;\n",
              "    }\n",
              "\n",
              "    .colab-df-convert:hover {\n",
              "      background-color: #E2EBFA;\n",
              "      box-shadow: 0px 1px 2px rgba(60, 64, 67, 0.3), 0px 1px 3px 1px rgba(60, 64, 67, 0.15);\n",
              "      fill: #174EA6;\n",
              "    }\n",
              "\n",
              "    [theme=dark] .colab-df-convert {\n",
              "      background-color: #3B4455;\n",
              "      fill: #D2E3FC;\n",
              "    }\n",
              "\n",
              "    [theme=dark] .colab-df-convert:hover {\n",
              "      background-color: #434B5C;\n",
              "      box-shadow: 0px 1px 3px 1px rgba(0, 0, 0, 0.15);\n",
              "      filter: drop-shadow(0px 1px 2px rgba(0, 0, 0, 0.3));\n",
              "      fill: #FFFFFF;\n",
              "    }\n",
              "  </style>\n",
              "\n",
              "      <script>\n",
              "        const buttonEl =\n",
              "          document.querySelector('#df-b31dbd67-f2af-4bb2-91b4-835371aa8714 button.colab-df-convert');\n",
              "        buttonEl.style.display =\n",
              "          google.colab.kernel.accessAllowed ? 'block' : 'none';\n",
              "\n",
              "        async function convertToInteractive(key) {\n",
              "          const element = document.querySelector('#df-b31dbd67-f2af-4bb2-91b4-835371aa8714');\n",
              "          const dataTable =\n",
              "            await google.colab.kernel.invokeFunction('convertToInteractive',\n",
              "                                                     [key], {});\n",
              "          if (!dataTable) return;\n",
              "\n",
              "          const docLinkHtml = 'Like what you see? Visit the ' +\n",
              "            '<a target=\"_blank\" href=https://colab.research.google.com/notebooks/data_table.ipynb>data table notebook</a>'\n",
              "            + ' to learn more about interactive tables.';\n",
              "          element.innerHTML = '';\n",
              "          dataTable['output_type'] = 'display_data';\n",
              "          await google.colab.output.renderOutput(dataTable, element);\n",
              "          const docLink = document.createElement('div');\n",
              "          docLink.innerHTML = docLinkHtml;\n",
              "          element.appendChild(docLink);\n",
              "        }\n",
              "      </script>\n",
              "    </div>\n",
              "  </div>\n",
              "  "
            ]
          },
          "metadata": {},
          "execution_count": 62
        }
      ]
    },
    {
      "cell_type": "code",
      "source": [
        "df.standard_type.unique()"
      ],
      "metadata": {
        "colab": {
          "base_uri": "https://localhost:8080/"
        },
        "id": "vluJ0IFAjuNb",
        "outputId": "014cc890-c469-494c-faa4-baa435734222"
      },
      "execution_count": 63,
      "outputs": [
        {
          "output_type": "execute_result",
          "data": {
            "text/plain": [
              "array(['IC50'], dtype=object)"
            ]
          },
          "metadata": {},
          "execution_count": 63
        }
      ]
    },
    {
      "cell_type": "markdown",
      "source": [
        " Save the bioactivity data into csv file"
      ],
      "metadata": {
        "id": "LMPtLx4zkVp8"
      }
    },
    {
      "cell_type": "code",
      "source": [
        "df.to_csv('bioactivity_data3.csv', index=False)"
      ],
      "metadata": {
        "id": "V59BmiQKkeD8"
      },
      "execution_count": 67,
      "outputs": []
    },
    {
      "cell_type": "markdown",
      "source": [
        "Copying files to Google drive"
      ],
      "metadata": {
        "id": "J1iCvcy-kvM7"
      }
    },
    {
      "cell_type": "code",
      "source": [
        "from google.colab import drive\n",
        "drive.mount('/content/gdrive/', force_remount=True)"
      ],
      "metadata": {
        "colab": {
          "base_uri": "https://localhost:8080/"
        },
        "id": "80ymUBholoxZ",
        "outputId": "87cc9229-9e5e-4ef5-baa2-92190f725af5"
      },
      "execution_count": 68,
      "outputs": [
        {
          "output_type": "stream",
          "name": "stdout",
          "text": [
            "Mounted at /content/gdrive/\n"
          ]
        }
      ]
    },
    {
      "cell_type": "markdown",
      "source": [
        "Create a data folder in colab notebook folder on Google drive"
      ],
      "metadata": {
        "id": "VAeHEivSmohG"
      }
    },
    {
      "cell_type": "code",
      "source": [
        "! mkdir '/content/gdrive/My Drive/Colab Notebooks/data3'"
      ],
      "metadata": {
        "id": "0xX2ERZHm5V7"
      },
      "execution_count": 69,
      "outputs": []
    },
    {
      "cell_type": "code",
      "source": [
        "! cp bioactivity_data3.csv '/content/gdrive/My Drive/Colab Notebooks/data3'"
      ],
      "metadata": {
        "id": "Dq1RZH2Ln_hZ"
      },
      "execution_count": 70,
      "outputs": []
    },
    {
      "cell_type": "code",
      "source": [
        "! ls -l '/content/gdrive/My Drive/Colab Notebooks/data3'"
      ],
      "metadata": {
        "colab": {
          "base_uri": "https://localhost:8080/"
        },
        "id": "-mPEfI_Koh3B",
        "outputId": "1a13b697-9313-4744-ac51-aea7223cb233"
      },
      "execution_count": 71,
      "outputs": [
        {
          "output_type": "stream",
          "name": "stdout",
          "text": [
            "total 160\n",
            "-rw------- 1 root root 163156 May 31 16:51 bioactivity_data3.csv\n"
          ]
        }
      ]
    },
    {
      "cell_type": "markdown",
      "source": [
        "SEE the csv file"
      ],
      "metadata": {
        "id": "gN-Svpc8pYdk"
      }
    },
    {
      "cell_type": "code",
      "source": [
        "! ls"
      ],
      "metadata": {
        "colab": {
          "base_uri": "https://localhost:8080/"
        },
        "id": "PFNss3vFpbUs",
        "outputId": "e0a5e4b3-6e73-422b-cf27-fb34c3137607"
      },
      "execution_count": 72,
      "outputs": [
        {
          "output_type": "stream",
          "name": "stdout",
          "text": [
            "bioactivity_data2.csv  bioactivity_preprocessed_data2.csv  sample_data\n",
            "bioactivity_data3.csv  bioactivity_preprocessed_data.csv\n",
            "bioactivity_data.csv   gdrive\n"
          ]
        }
      ]
    },
    {
      "cell_type": "code",
      "source": [
        "! head bioactivity_data2.csv"
      ],
      "metadata": {
        "colab": {
          "base_uri": "https://localhost:8080/"
        },
        "id": "H1GLldUCpjlD",
        "outputId": "cf1bbadc-cd03-46f8-a85b-0883d35a4fe0"
      },
      "execution_count": 73,
      "outputs": [
        {
          "output_type": "stream",
          "name": "stdout",
          "text": [
            "activity_comment,activity_id,activity_properties,assay_chembl_id,assay_description,assay_type,assay_variant_accession,assay_variant_mutation,bao_endpoint,bao_format,bao_label,canonical_smiles,data_validity_comment,data_validity_description,document_chembl_id,document_journal,document_year,ligand_efficiency,molecule_chembl_id,molecule_pref_name,parent_molecule_chembl_id,pchembl_value,potential_duplicate,qudt_units,record_id,relation,src_id,standard_flag,standard_relation,standard_text_value,standard_type,standard_units,standard_upper_value,standard_value,target_chembl_id,target_organism,target_pref_name,target_tax_id,text_value,toid,type,units,uo_units,upper_value,value\n",
            ",16875836,[],CHEMBL3880354,Inhibition of recombinant human NAEalpha/N-terminal His-tagged NAEbeta expressed in baculovirus infected insect Sf9 cells using N-terminal FLAG tagged Nedd8 as substrate incubated for 105 mins in presence of N-terminal GST-tagged Ubc12 by FRET assay,B,,,BAO_0000190,BAO_0000219,cell-based format,CN(c1ncnc2[nH]c(-c3cccc4ccccc34)nc12)[C@H]1C[C@H](O)[C@H](COS(N)(=O)=O)C1,,,CHEMBL3879911,,2008.0,,CHEMBL3910873,,CHEMBL3910873,,0,http://www.openphacts.org/units/Nanomolar,2823357,<=,38,1,<=,,IC50,nM,,500.0,CHEMBL3831283,Homo sapiens,NEDD8 activating enzyme,9606,,,IC50,nM,UO_0000065,,500.0\n",
            ",16875837,[],CHEMBL3880354,Inhibition of recombinant human NAEalpha/N-terminal His-tagged NAEbeta expressed in baculovirus infected insect Sf9 cells using N-terminal FLAG tagged Nedd8 as substrate incubated for 105 mins in presence of N-terminal GST-tagged Ubc12 by FRET assay,B,,,BAO_0000190,BAO_0000219,cell-based format,Cc1nc(N[C@H]2CCc3ccccc32)nc(N[C@@H]2C[C@H](COS(N)(=O)=O)[C@@H](O)[C@H]2O)n1,,,CHEMBL3879911,,2008.0,,CHEMBL3958456,,CHEMBL3958456,,0,http://www.openphacts.org/units/Nanomolar,2823356,<=,38,1,<=,,IC50,nM,,500.0,CHEMBL3831283,Homo sapiens,NEDD8 activating enzyme,9606,,,IC50,nM,UO_0000065,,500.0\n",
            ",16875838,[],CHEMBL3880354,Inhibition of recombinant human NAEalpha/N-terminal His-tagged NAEbeta expressed in baculovirus infected insect Sf9 cells using N-terminal FLAG tagged Nedd8 as substrate incubated for 105 mins in presence of N-terminal GST-tagged Ubc12 by FRET assay,B,,,BAO_0000190,BAO_0000219,cell-based format,C[C@H]1Cc2ccccc2[C@H]1Nc1cc(O[C@H]2C[C@H](O)[C@H](COS(N)(=O)=O)C2)ncn1,,,CHEMBL3879911,,2008.0,,CHEMBL3948689,,CHEMBL3948689,,0,http://www.openphacts.org/units/Nanomolar,2823355,<=,38,1,<=,,IC50,nM,,500.0,CHEMBL3831283,Homo sapiens,NEDD8 activating enzyme,9606,,,IC50,nM,UO_0000065,,500.0\n",
            ",16875839,[],CHEMBL3880354,Inhibition of recombinant human NAEalpha/N-terminal His-tagged NAEbeta expressed in baculovirus infected insect Sf9 cells using N-terminal FLAG tagged Nedd8 as substrate incubated for 105 mins in presence of N-terminal GST-tagged Ubc12 by FRET assay,B,,,BAO_0000190,BAO_0000219,cell-based format,NS(=O)(=O)OC[C@@H]1C[C@@H](Oc2cc(NCc3cccc4ccccc34)ncn2)C[C@@H]1O,,,CHEMBL3879911,,2008.0,,CHEMBL3946042,,CHEMBL3946042,,0,http://www.openphacts.org/units/Nanomolar,2823354,<=,38,1,<=,,IC50,nM,,500.0,CHEMBL3831283,Homo sapiens,NEDD8 activating enzyme,9606,,,IC50,nM,UO_0000065,,500.0\n",
            ",16875840,[],CHEMBL3880354,Inhibition of recombinant human NAEalpha/N-terminal His-tagged NAEbeta expressed in baculovirus infected insect Sf9 cells using N-terminal FLAG tagged Nedd8 as substrate incubated for 105 mins in presence of N-terminal GST-tagged Ubc12 by FRET assay,B,,,BAO_0000190,BAO_0000219,cell-based format,NS(=O)(=O)OC[C@@H]1C[C@@H](Nc2ncnc3[nH]c(-c4cccc5c4OCCO5)nc23)C[C@@H]1O,,,CHEMBL3879911,,2008.0,,CHEMBL3903981,,CHEMBL3903981,,0,http://www.openphacts.org/units/Nanomolar,2823353,<=,38,1,<=,,IC50,nM,,500.0,CHEMBL3831283,Homo sapiens,NEDD8 activating enzyme,9606,,,IC50,nM,UO_0000065,,500.0\n",
            ",16875841,[],CHEMBL3880354,Inhibition of recombinant human NAEalpha/N-terminal His-tagged NAEbeta expressed in baculovirus infected insect Sf9 cells using N-terminal FLAG tagged Nedd8 as substrate incubated for 105 mins in presence of N-terminal GST-tagged Ubc12 by FRET assay,B,,,BAO_0000190,BAO_0000219,cell-based format,NS(=O)(=O)OC[C@@H]1C[C@@H](Oc2cc(N[C@H]3CCCc4ccccc43)ncn2)C[C@@H]1O,,,CHEMBL3879911,,2008.0,,CHEMBL3922985,,CHEMBL3922985,,0,http://www.openphacts.org/units/Nanomolar,2823352,<=,38,1,<=,,IC50,nM,,500.0,CHEMBL3831283,Homo sapiens,NEDD8 activating enzyme,9606,,,IC50,nM,UO_0000065,,500.0\n",
            ",16875842,[],CHEMBL3880354,Inhibition of recombinant human NAEalpha/N-terminal His-tagged NAEbeta expressed in baculovirus infected insect Sf9 cells using N-terminal FLAG tagged Nedd8 as substrate incubated for 105 mins in presence of N-terminal GST-tagged Ubc12 by FRET assay,B,,,BAO_0000190,BAO_0000219,cell-based format,NS(=O)(=O)OC[C@@H]1C[C@@H](Nc2ncnc3[nH]c(-c4cccc5c4oc4ccccc45)nc23)C[C@@H]1O,,,CHEMBL3879911,,2008.0,,CHEMBL3962928,,CHEMBL3962928,,0,http://www.openphacts.org/units/Nanomolar,2823351,<=,38,1,<=,,IC50,nM,,500.0,CHEMBL3831283,Homo sapiens,NEDD8 activating enzyme,9606,,,IC50,nM,UO_0000065,,500.0\n",
            ",16875843,[],CHEMBL3880354,Inhibition of recombinant human NAEalpha/N-terminal His-tagged NAEbeta expressed in baculovirus infected insect Sf9 cells using N-terminal FLAG tagged Nedd8 as substrate incubated for 105 mins in presence of N-terminal GST-tagged Ubc12 by FRET assay,B,,,BAO_0000190,BAO_0000219,cell-based format,NS(=O)(=O)OC[C@@H]1C[C@@H](Nc2ncnc3[nH]c(-c4ccccc4)cc23)C[C@@H]1O,,,CHEMBL3879911,,2008.0,,CHEMBL3967822,,CHEMBL3967822,,0,http://www.openphacts.org/units/Nanomolar,2823350,<=,38,1,<=,,IC50,nM,,500.0,CHEMBL3831283,Homo sapiens,NEDD8 activating enzyme,9606,,,IC50,nM,UO_0000065,,500.0\n",
            ",16875844,[],CHEMBL3880354,Inhibition of recombinant human NAEalpha/N-terminal His-tagged NAEbeta expressed in baculovirus infected insect Sf9 cells using N-terminal FLAG tagged Nedd8 as substrate incubated for 105 mins in presence of N-terminal GST-tagged Ubc12 by FRET assay,B,,,BAO_0000190,BAO_0000219,cell-based format,NS(=O)(=O)OC[C@@H]1C[C@@H](Nc2ncnc3[nH]c(-c4ccccc4Oc4ccccc4)nc23)C[C@@H]1O,,,CHEMBL3879911,,2008.0,,CHEMBL3956819,,CHEMBL3956819,,0,http://www.openphacts.org/units/Nanomolar,2823349,<=,38,1,<=,,IC50,nM,,500.0,CHEMBL3831283,Homo sapiens,NEDD8 activating enzyme,9606,,,IC50,nM,UO_0000065,,500.0\n"
          ]
        }
      ]
    },
    {
      "cell_type": "code",
      "source": [
        ""
      ],
      "metadata": {
        "id": "lz9OkxV03o2b"
      },
      "execution_count": null,
      "outputs": []
    },
    {
      "cell_type": "markdown",
      "source": [
        "Handling missing data"
      ],
      "metadata": {
        "id": "rqNgS_-ZpwFE"
      }
    },
    {
      "cell_type": "code",
      "source": [
        "df2= df[df.standard_value.notna()]"
      ],
      "metadata": {
        "id": "cWVqrUeZpzQ0"
      },
      "execution_count": 74,
      "outputs": []
    },
    {
      "cell_type": "markdown",
      "source": [
        "Data pre-processing of bioactivity"
      ],
      "metadata": {
        "id": "OQVHObRFqqif"
      }
    },
    {
      "cell_type": "code",
      "source": [
        "bioactivity_class= []\n",
        "for  i in df2.standard_value:\n",
        "  if float(i) >= 10000:\n",
        "    bioactivity_class.append(\"inactive\")\n",
        "  elif float(i) <= 1000:\n",
        "      bioactivity_class.append(\"active\")\n",
        "  else: \n",
        "        bioactivity_class.append(\"intermediate\")"
      ],
      "metadata": {
        "id": "eLHTGwpWqyNq"
      },
      "execution_count": 75,
      "outputs": []
    },
    {
      "cell_type": "markdown",
      "source": [
        "Iterate the molecule_chembl_id to a list"
      ],
      "metadata": {
        "id": "EP4sNCpRyINA"
      }
    },
    {
      "cell_type": "code",
      "source": [
        "mol_cid= []\n",
        "for i in df2.molecule_chembl_id:\n",
        "  mol_cid.append(i)"
      ],
      "metadata": {
        "id": "AacVHIlByTjV"
      },
      "execution_count": 78,
      "outputs": []
    },
    {
      "cell_type": "markdown",
      "source": [
        "Iterate canonical_smiles to a list"
      ],
      "metadata": {
        "id": "l56POGxbyqlb"
      }
    },
    {
      "cell_type": "code",
      "source": [
        "canonical_smiles= []\n",
        "for i in df2.canonical_smiles:\n",
        "  canonical_smiles.append(i)"
      ],
      "metadata": {
        "id": "XKv2joo2yxAR"
      },
      "execution_count": 77,
      "outputs": []
    },
    {
      "cell_type": "markdown",
      "source": [
        "Iterate standard value"
      ],
      "metadata": {
        "id": "aPf5n9zmzRSj"
      }
    },
    {
      "cell_type": "code",
      "source": [
        "standard_value= []\n",
        "for i in df2.standard_value:\n",
        "  standard_value.append(i)"
      ],
      "metadata": {
        "id": "VnFlmWKFzVUJ"
      },
      "execution_count": 79,
      "outputs": []
    },
    {
      "cell_type": "code",
      "source": [
        "data_tuples= list(zip(mol_cid, canonical_smiles, bioactivity_class, standard_value))\n",
        "df3= pd.DataFrame(data_tuples, columns=['molecule_chembl_id', 'canonical_smiles','bioactivity_class', 'standard_value'])\n",
        "df3"
      ],
      "metadata": {
        "colab": {
          "base_uri": "https://localhost:8080/",
          "height": 424
        },
        "id": "4q_dS9V25czV",
        "outputId": "09bd2c2d-0299-404d-d91f-550607272de3"
      },
      "execution_count": 80,
      "outputs": [
        {
          "output_type": "execute_result",
          "data": {
            "text/plain": [
              "    molecule_chembl_id                                   canonical_smiles  \\\n",
              "0        CHEMBL3910873  CN(c1ncnc2[nH]c(-c3cccc4ccccc34)nc12)[C@H]1C[C...   \n",
              "1        CHEMBL3958456  Cc1nc(N[C@H]2CCc3ccccc32)nc(N[C@@H]2C[C@H](COS...   \n",
              "2        CHEMBL3948689  C[C@H]1Cc2ccccc2[C@H]1Nc1cc(O[C@H]2C[C@H](O)[C...   \n",
              "3        CHEMBL3946042  NS(=O)(=O)OC[C@@H]1C[C@@H](Oc2cc(NCc3cccc4cccc...   \n",
              "4        CHEMBL3903981  NS(=O)(=O)OC[C@@H]1C[C@@H](Nc2ncnc3[nH]c(-c4cc...   \n",
              "..                 ...                                                ...   \n",
              "285      CHEMBL4558498  Cc1cc(Cn2cc(C(=O)c3cncnc3N[C@@H]3C[C@H](COS(N)...   \n",
              "286      CHEMBL4573232  NS(=O)(=O)OC[C@H]1C[C@@H](Nc2ncncc2C(=O)c2cn(C...   \n",
              "287      CHEMBL4569826  NS(=O)(=O)OC[C@H]1C[C@@H](Nc2ncncc2C(=O)c2cn(C...   \n",
              "288      CHEMBL4580824  NS(=O)(=O)OC[C@H]1C[C@@H](Nc2ncncc2C(=O)c2cn(C...   \n",
              "289      CHEMBL4546722  Cc1c(Cn2cc(C(=O)c3cncnc3N[C@@H]3C[C@H](COS(N)(...   \n",
              "\n",
              "    bioactivity_class standard_value  \n",
              "0              active          500.0  \n",
              "1              active          500.0  \n",
              "2              active          500.0  \n",
              "3              active          500.0  \n",
              "4              active          500.0  \n",
              "..                ...            ...  \n",
              "285            active           15.0  \n",
              "286            active           10.0  \n",
              "287            active            0.6  \n",
              "288            active           13.0  \n",
              "289            active          112.0  \n",
              "\n",
              "[290 rows x 4 columns]"
            ],
            "text/html": [
              "\n",
              "  <div id=\"df-f46ff1ac-ac24-48de-80bd-30940ddd51cf\">\n",
              "    <div class=\"colab-df-container\">\n",
              "      <div>\n",
              "<style scoped>\n",
              "    .dataframe tbody tr th:only-of-type {\n",
              "        vertical-align: middle;\n",
              "    }\n",
              "\n",
              "    .dataframe tbody tr th {\n",
              "        vertical-align: top;\n",
              "    }\n",
              "\n",
              "    .dataframe thead th {\n",
              "        text-align: right;\n",
              "    }\n",
              "</style>\n",
              "<table border=\"1\" class=\"dataframe\">\n",
              "  <thead>\n",
              "    <tr style=\"text-align: right;\">\n",
              "      <th></th>\n",
              "      <th>molecule_chembl_id</th>\n",
              "      <th>canonical_smiles</th>\n",
              "      <th>bioactivity_class</th>\n",
              "      <th>standard_value</th>\n",
              "    </tr>\n",
              "  </thead>\n",
              "  <tbody>\n",
              "    <tr>\n",
              "      <th>0</th>\n",
              "      <td>CHEMBL3910873</td>\n",
              "      <td>CN(c1ncnc2[nH]c(-c3cccc4ccccc34)nc12)[C@H]1C[C...</td>\n",
              "      <td>active</td>\n",
              "      <td>500.0</td>\n",
              "    </tr>\n",
              "    <tr>\n",
              "      <th>1</th>\n",
              "      <td>CHEMBL3958456</td>\n",
              "      <td>Cc1nc(N[C@H]2CCc3ccccc32)nc(N[C@@H]2C[C@H](COS...</td>\n",
              "      <td>active</td>\n",
              "      <td>500.0</td>\n",
              "    </tr>\n",
              "    <tr>\n",
              "      <th>2</th>\n",
              "      <td>CHEMBL3948689</td>\n",
              "      <td>C[C@H]1Cc2ccccc2[C@H]1Nc1cc(O[C@H]2C[C@H](O)[C...</td>\n",
              "      <td>active</td>\n",
              "      <td>500.0</td>\n",
              "    </tr>\n",
              "    <tr>\n",
              "      <th>3</th>\n",
              "      <td>CHEMBL3946042</td>\n",
              "      <td>NS(=O)(=O)OC[C@@H]1C[C@@H](Oc2cc(NCc3cccc4cccc...</td>\n",
              "      <td>active</td>\n",
              "      <td>500.0</td>\n",
              "    </tr>\n",
              "    <tr>\n",
              "      <th>4</th>\n",
              "      <td>CHEMBL3903981</td>\n",
              "      <td>NS(=O)(=O)OC[C@@H]1C[C@@H](Nc2ncnc3[nH]c(-c4cc...</td>\n",
              "      <td>active</td>\n",
              "      <td>500.0</td>\n",
              "    </tr>\n",
              "    <tr>\n",
              "      <th>...</th>\n",
              "      <td>...</td>\n",
              "      <td>...</td>\n",
              "      <td>...</td>\n",
              "      <td>...</td>\n",
              "    </tr>\n",
              "    <tr>\n",
              "      <th>285</th>\n",
              "      <td>CHEMBL4558498</td>\n",
              "      <td>Cc1cc(Cn2cc(C(=O)c3cncnc3N[C@@H]3C[C@H](COS(N)...</td>\n",
              "      <td>active</td>\n",
              "      <td>15.0</td>\n",
              "    </tr>\n",
              "    <tr>\n",
              "      <th>286</th>\n",
              "      <td>CHEMBL4573232</td>\n",
              "      <td>NS(=O)(=O)OC[C@H]1C[C@@H](Nc2ncncc2C(=O)c2cn(C...</td>\n",
              "      <td>active</td>\n",
              "      <td>10.0</td>\n",
              "    </tr>\n",
              "    <tr>\n",
              "      <th>287</th>\n",
              "      <td>CHEMBL4569826</td>\n",
              "      <td>NS(=O)(=O)OC[C@H]1C[C@@H](Nc2ncncc2C(=O)c2cn(C...</td>\n",
              "      <td>active</td>\n",
              "      <td>0.6</td>\n",
              "    </tr>\n",
              "    <tr>\n",
              "      <th>288</th>\n",
              "      <td>CHEMBL4580824</td>\n",
              "      <td>NS(=O)(=O)OC[C@H]1C[C@@H](Nc2ncncc2C(=O)c2cn(C...</td>\n",
              "      <td>active</td>\n",
              "      <td>13.0</td>\n",
              "    </tr>\n",
              "    <tr>\n",
              "      <th>289</th>\n",
              "      <td>CHEMBL4546722</td>\n",
              "      <td>Cc1c(Cn2cc(C(=O)c3cncnc3N[C@@H]3C[C@H](COS(N)(...</td>\n",
              "      <td>active</td>\n",
              "      <td>112.0</td>\n",
              "    </tr>\n",
              "  </tbody>\n",
              "</table>\n",
              "<p>290 rows × 4 columns</p>\n",
              "</div>\n",
              "      <button class=\"colab-df-convert\" onclick=\"convertToInteractive('df-f46ff1ac-ac24-48de-80bd-30940ddd51cf')\"\n",
              "              title=\"Convert this dataframe to an interactive table.\"\n",
              "              style=\"display:none;\">\n",
              "        \n",
              "  <svg xmlns=\"http://www.w3.org/2000/svg\" height=\"24px\"viewBox=\"0 0 24 24\"\n",
              "       width=\"24px\">\n",
              "    <path d=\"M0 0h24v24H0V0z\" fill=\"none\"/>\n",
              "    <path d=\"M18.56 5.44l.94 2.06.94-2.06 2.06-.94-2.06-.94-.94-2.06-.94 2.06-2.06.94zm-11 1L8.5 8.5l.94-2.06 2.06-.94-2.06-.94L8.5 2.5l-.94 2.06-2.06.94zm10 10l.94 2.06.94-2.06 2.06-.94-2.06-.94-.94-2.06-.94 2.06-2.06.94z\"/><path d=\"M17.41 7.96l-1.37-1.37c-.4-.4-.92-.59-1.43-.59-.52 0-1.04.2-1.43.59L10.3 9.45l-7.72 7.72c-.78.78-.78 2.05 0 2.83L4 21.41c.39.39.9.59 1.41.59.51 0 1.02-.2 1.41-.59l7.78-7.78 2.81-2.81c.8-.78.8-2.07 0-2.86zM5.41 20L4 18.59l7.72-7.72 1.47 1.35L5.41 20z\"/>\n",
              "  </svg>\n",
              "      </button>\n",
              "      \n",
              "  <style>\n",
              "    .colab-df-container {\n",
              "      display:flex;\n",
              "      flex-wrap:wrap;\n",
              "      gap: 12px;\n",
              "    }\n",
              "\n",
              "    .colab-df-convert {\n",
              "      background-color: #E8F0FE;\n",
              "      border: none;\n",
              "      border-radius: 50%;\n",
              "      cursor: pointer;\n",
              "      display: none;\n",
              "      fill: #1967D2;\n",
              "      height: 32px;\n",
              "      padding: 0 0 0 0;\n",
              "      width: 32px;\n",
              "    }\n",
              "\n",
              "    .colab-df-convert:hover {\n",
              "      background-color: #E2EBFA;\n",
              "      box-shadow: 0px 1px 2px rgba(60, 64, 67, 0.3), 0px 1px 3px 1px rgba(60, 64, 67, 0.15);\n",
              "      fill: #174EA6;\n",
              "    }\n",
              "\n",
              "    [theme=dark] .colab-df-convert {\n",
              "      background-color: #3B4455;\n",
              "      fill: #D2E3FC;\n",
              "    }\n",
              "\n",
              "    [theme=dark] .colab-df-convert:hover {\n",
              "      background-color: #434B5C;\n",
              "      box-shadow: 0px 1px 3px 1px rgba(0, 0, 0, 0.15);\n",
              "      filter: drop-shadow(0px 1px 2px rgba(0, 0, 0, 0.3));\n",
              "      fill: #FFFFFF;\n",
              "    }\n",
              "  </style>\n",
              "\n",
              "      <script>\n",
              "        const buttonEl =\n",
              "          document.querySelector('#df-f46ff1ac-ac24-48de-80bd-30940ddd51cf button.colab-df-convert');\n",
              "        buttonEl.style.display =\n",
              "          google.colab.kernel.accessAllowed ? 'block' : 'none';\n",
              "\n",
              "        async function convertToInteractive(key) {\n",
              "          const element = document.querySelector('#df-f46ff1ac-ac24-48de-80bd-30940ddd51cf');\n",
              "          const dataTable =\n",
              "            await google.colab.kernel.invokeFunction('convertToInteractive',\n",
              "                                                     [key], {});\n",
              "          if (!dataTable) return;\n",
              "\n",
              "          const docLinkHtml = 'Like what you see? Visit the ' +\n",
              "            '<a target=\"_blank\" href=https://colab.research.google.com/notebooks/data_table.ipynb>data table notebook</a>'\n",
              "            + ' to learn more about interactive tables.';\n",
              "          element.innerHTML = '';\n",
              "          dataTable['output_type'] = 'display_data';\n",
              "          await google.colab.output.renderOutput(dataTable, element);\n",
              "          const docLink = document.createElement('div');\n",
              "          docLink.innerHTML = docLinkHtml;\n",
              "          element.appendChild(docLink);\n",
              "        }\n",
              "      </script>\n",
              "    </div>\n",
              "  </div>\n",
              "  "
            ]
          },
          "metadata": {},
          "execution_count": 80
        }
      ]
    },
    {
      "cell_type": "markdown",
      "source": [
        "***Save dataframe as csv file"
      ],
      "metadata": {
        "id": "6tD4hb4-74Sq"
      }
    },
    {
      "cell_type": "code",
      "source": [
        "df3.to_csv('bioactivity_preprocessed_data3.csv', index=False)"
      ],
      "metadata": {
        "id": "VS0ViPyl7-Xp"
      },
      "execution_count": 81,
      "outputs": []
    },
    {
      "cell_type": "code",
      "source": [
        "ls -l"
      ],
      "metadata": {
        "colab": {
          "base_uri": "https://localhost:8080/"
        },
        "id": "2GD48B7Q8aFk",
        "outputId": "8e061e2f-119a-43df-e60f-ec72c40ae9a0"
      },
      "execution_count": 82,
      "outputs": [
        {
          "output_type": "stream",
          "name": "stdout",
          "text": [
            "total 396\n",
            "-rw-r--r-- 1 root root 163156 May 31 16:50 bioactivity_data2.csv\n",
            "-rw-r--r-- 1 root root 163156 May 31 16:51 bioactivity_data3.csv\n",
            "-rw-r--r-- 1 root root  21982 May 31 16:00 bioactivity_data.csv\n",
            "-rw-r--r-- 1 root root   3720 May 31 16:11 bioactivity_preprocessed_data2.csv\n",
            "-rw-r--r-- 1 root root  28664 May 31 16:55 bioactivity_preprocessed_data3.csv\n",
            "-rw-r--r-- 1 root root  10578 May 31 15:45 bioactivity_preprocessed_data.csv\n",
            "drwx------ 5 root root   4096 May 31 16:51 \u001b[0m\u001b[01;34mgdrive\u001b[0m/\n",
            "drwxr-xr-x 1 root root   4096 May 17 13:39 \u001b[01;34msample_data\u001b[0m/\n"
          ]
        }
      ]
    },
    {
      "cell_type": "markdown",
      "source": [
        "Copy to Google drive"
      ],
      "metadata": {
        "id": "crjzVBY19Zfz"
      }
    },
    {
      "cell_type": "code",
      "source": [
        "! cp bioactivity_preprocessed_data3.csv '/content/gdrive/My Drive/Colab Notebooks/data3'"
      ],
      "metadata": {
        "id": "WV-HELwg8y64"
      },
      "execution_count": 83,
      "outputs": []
    },
    {
      "cell_type": "code",
      "source": [
        "! ls '/content/gdrive/My Drive/Colab Notebooks/data3'"
      ],
      "metadata": {
        "colab": {
          "base_uri": "https://localhost:8080/"
        },
        "id": "kXnu34DM9HVR",
        "outputId": "e89c4846-a853-4f28-a57e-e3d811323c0a"
      },
      "execution_count": 84,
      "outputs": [
        {
          "output_type": "stream",
          "name": "stdout",
          "text": [
            "bioactivity_data3.csv  bioactivity_preprocessed_data3.csv\n"
          ]
        }
      ]
    }
  ]
}